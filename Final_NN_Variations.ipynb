{
 "cells": [
  {
   "cell_type": "code",
   "execution_count": 31,
   "id": "071417c7",
   "metadata": {},
   "outputs": [],
   "source": [
    "#!pip install pyomo\n",
    "\n",
    "import numpy as np\n",
    "import pyomo.environ as pyo\n",
    "from pathlib import *\n",
    "from pyomo.opt import SolverFactory\n",
    "from gurobipy import *\n",
    "\n",
    "import os\n",
    "import pandas as pd\n",
    "import matplotlib.pyplot as plt\n",
    "import statistics\n",
    "import time\n",
    "import math\n",
    "\n",
    "from datetime import datetime\n"
   ]
  },
  {
   "cell_type": "markdown",
   "id": "c9b5a6ec",
   "metadata": {},
   "source": [
    "# Main Algorithm"
   ]
  },
  {
   "cell_type": "code",
   "execution_count": 32,
   "id": "716c9578",
   "metadata": {},
   "outputs": [],
   "source": [
    "class demand_object:\n",
    "    def __init__(self, index, interarrival_time, x_coordinate, y_coordinate, service_time, earliest_arrival):\n",
    "        self.index = index\n",
    "        self.interarrival_time = interarrival_time\n",
    "        self.x_coordinate = x_coordinate\n",
    "        self.y_coordinate = y_coordinate\n",
    "        self.service_time = service_time\n",
    "        self.earliest_arrival = earliest_arrival\n",
    "\n",
    "def wait_for_arrival():\n",
    "    global lam; global mu; global m; global number_nodes_in_system; global lower_earliest; global sigma\n",
    "    global all_demands\n",
    "    \n",
    "    np.random.seed(number_nodes_in_system)\n",
    "\n",
    "    A = np.random.exponential(scale = 1/lam, size=1)[0];\n",
    "    #S = np.random.normal(mu, 0, size = 1)[0]\n",
    "    S = np.random.uniform(0, 1, size = 1)[0]\n",
    "    X = np.random.uniform(low=0, high=m, size=1)[0];\n",
    "    Y = np.random.uniform(low=0, high=m, size=1)[0];\n",
    "    demand = demand_object(number_nodes_in_system+1, A, X, Y, S, lower_earliest + A);\n",
    "    \n",
    "    all_demands[number_nodes_in_system] = demand\n",
    "    return demand;\n",
    "\n",
    "def add_newly_appeared(available_nodes, current_time):\n",
    "    global number_available_nodes\n",
    "    global number_nodes_in_system\n",
    "    global lower_earliest\n",
    "    \n",
    "    while (number_nodes_in_system < simulation_demands_amount):\n",
    "        new_available_node = wait_for_arrival();\n",
    "        if (new_available_node.earliest_arrival <= current_time):\n",
    "            available_nodes.append(new_available_node);\n",
    "            number_available_nodes += 1;\n",
    "            number_nodes_in_system += 1;\n",
    "            lower_earliest = new_available_node.earliest_arrival;\n",
    "        else:\n",
    "            break\n",
    "        \n",
    "    return available_nodes;\n",
    "\n",
    "def determine_Nearest_Neighbor(available_nodes, current_node):\n",
    "    minimum_distance = np.sqrt(((current_node.x_coordinate - available_nodes[0].x_coordinate)**2) + ((current_node.y_coordinate - available_nodes[0].y_coordinate)**2));\n",
    "    next_node = available_nodes[0]\n",
    "    \n",
    "    for demand in available_nodes:\n",
    "        temp_distance = np.sqrt(((current_node.x_coordinate - demand.x_coordinate)**2) + ((current_node.y_coordinate - demand.y_coordinate)**2));\n",
    "                \n",
    "        if (temp_distance < minimum_distance):\n",
    "            next_node = demand;\n",
    "            minimum_distance = temp_distance;\n",
    "    \n",
    "    travel_time = minimum_distance\n",
    "    return next_node, travel_time;\n",
    "\n",
    "def preemption_check(action_traveler, status_traveler, available_nodes, current_node, next_node, travel_current_round, current_time, travel_time, time_waited_at_depot):\n",
    "    # If there appears a node while traveling, decide to go there instead of continueing the route\n",
    "    # One route diversion allowed\"\"\"\n",
    "    global number_available_nodes;\n",
    "    global number_nodes_in_system\n",
    "    global lower_earliest\n",
    "    m = 1\n",
    "    \n",
    "    prev_num_available_nodes = number_available_nodes;\n",
    "    time_start_travel = current_time + time_waited_at_depot;\n",
    "    \n",
    "    time_start_travel_test = current_time + time_waited_at_depot;\n",
    "    \n",
    "    available_nodes = add_newly_appeared(available_nodes, time_start_travel+travel_time);\n",
    "    \n",
    "    if (prev_num_available_nodes < number_available_nodes):\n",
    "        for k in range(prev_num_available_nodes, number_available_nodes):\n",
    "            time_traveled = available_nodes[k].earliest_arrival - time_start_travel;\n",
    "            fraction_traveled_time = time_traveled/travel_time\n",
    "            \n",
    "            if (action_traveler == 1 and status_traveler == 1):\n",
    "                position_repairman = [current_node.x_coordinate + (fraction_traveled_time*((m/2) - current_node.x_coordinate)), current_node.y_coordinate + (fraction_traveled_time*((m/2)-current_node.y_coordinate))]\n",
    "                distance_original = np.sqrt(((position_repairman[0] - (m/2))**2) + ((position_repairman[1] - (m/2))**2))\n",
    "\n",
    "            elif (action_traveler == 0 and status_traveler == 0):\n",
    "                position_repairman = [(m/2) + (fraction_traveled_time*(next_node.x_coordinate-(m/2))), (m/2) + (fraction_traveled_time*(next_node.y_coordinate - (m/2)))]\n",
    "                distance_original = np.sqrt(((position_repairman[0] - next_node.x_coordinate)**2) + ((position_repairman[1] - next_node.y_coordinate)**2))\n",
    "\n",
    "            elif (action_traveler == 0 and status_traveler == 1):\n",
    "                position_repairman = [current_node.x_coordinate + (fraction_traveled_time*(next_node.x_coordinate-current_node.x_coordinate)), current_node.y_coordinate + (fraction_traveled_time*(next_node.y_coordinate-current_node.y_coordinate))]\n",
    "                distance_original = np.sqrt(((position_repairman[0] - next_node.x_coordinate)**2) + ((position_repairman[1] - next_node.y_coordinate)**2))\n",
    "\n",
    "            else:\n",
    "                raise ValueError(f\"action_traveler == 1 and status_traveler == 0\")\n",
    "\n",
    "            distance_appeared = np.sqrt(((position_repairman[0] - available_nodes[k].x_coordinate)**2) + ((position_repairman[1] - available_nodes[k].y_coordinate)**2))\n",
    "                                \n",
    "            if (distance_appeared < distance_original or action_traveler == 1):\n",
    "\n",
    "                # Remove nodes if they arrived after the updated arrival time \n",
    "                if (k < number_available_nodes):\n",
    "                    to_be_removed = []\n",
    "                    most_recent_added = available_nodes[k]\n",
    "                    for l in range(k+1, number_available_nodes):\n",
    "                        if (available_nodes[l].earliest_arrival > time_start_travel + time_traveled + distance_appeared):\n",
    "                            to_be_removed.append(available_nodes[l])\n",
    "                        else:\n",
    "                            most_recent_added = available_nodes[l]\n",
    "                        \n",
    "                    if (len(to_be_removed)>0):\n",
    "                        number_available_nodes -= len(to_be_removed)\n",
    "                        number_nodes_in_system -= len(to_be_removed)\n",
    "                        \n",
    "                        for node in to_be_removed:\n",
    "                            available_nodes.remove(node)\n",
    "                            \n",
    "                if (action_traveler == 0):\n",
    "                    available_nodes.append(next_node);\n",
    "                    number_available_nodes += 1\n",
    "                    \n",
    "                # Update next_node\n",
    "                next_node = available_nodes[k];\n",
    "                lower_earliest = most_recent_added.earliest_arrival\n",
    "                available_nodes.remove(next_node);\n",
    "                number_available_nodes -= 1\n",
    "                \n",
    "                time_start_travel_test = time_start_travel_test + time_traveled\n",
    "                \n",
    "                travel_current_round = time_waited_at_depot + time_traveled + distance_appeared;\n",
    "                travel_time = time_traveled + distance_appeared\n",
    "\n",
    "                action_traveler = 0;\n",
    "                return next_node, travel_current_round, action_traveler, available_nodes, travel_time, time_start_travel_test;\n",
    "    \n",
    "    return next_node, travel_current_round, action_traveler, available_nodes, travel_time, time_start_travel_test;\n",
    "\n",
    "def simulate_NN_variations_algorithm():\n",
    "    global simulation_demands_amount; global m;\n",
    "    global number_available_nodes; global number_nodes_in_system; global lower_earliest;\n",
    "    \n",
    "    result_waiting_times_array = [0]*simulation_demands_amount\n",
    "    \n",
    "    action_traveler = 0; # 0 = traveling to an available demand; 1 = travel to the depot\n",
    "    status_traveler = 0; # 0 = at depot waiting; 1 = finished serving at a demand\n",
    "    \n",
    "    current_node = demand_object(0,0,m/2,m/2,0,0)\n",
    "    \n",
    "    number_visited_nodes = 0;\n",
    "    available_nodes = [];\n",
    "    \n",
    "    current_time = 0.0;\n",
    "    prev_current_time = 0.0 # VALIDATION\n",
    "    \n",
    "    start_time_time = time.time()\n",
    "    \n",
    "    while (number_visited_nodes < simulation_demands_amount):        \n",
    "        \n",
    "        #\"\"\"STATUS PRINTING\"\"\"\n",
    "        if ((time.time()-start_time_time)/60 >= 0.5):\n",
    "            now = datetime.now()\n",
    "            now_time = now.strftime(\"%H:%M:%S\")\n",
    "            print(f\"{now_time}: NUMBER DEMANDS VISITED: {number_visited_nodes}/{simulation_demands_amount}\")\n",
    "            start_time_time = time.time()\n",
    "        #\"\"\"STATUS PRINTING\"\"\"\n",
    "        \n",
    "        # Initialization        \n",
    "        available_nodes = add_newly_appeared(available_nodes, current_time);\n",
    "        \n",
    "        \n",
    "        \n",
    "        #\"\"\"THE SERVER IS AT THE DEPOT\"\"\"\n",
    "        if (status_traveler == 0):\n",
    "            # If currently at depot, wait for next node to become available\n",
    "            next_node = wait_for_arrival();\n",
    "            lower_earliest = next_node.earliest_arrival;\n",
    "            number_nodes_in_system += 1;\n",
    "            travel_time = np.sqrt(((next_node.x_coordinate - (m/2))**2) + ((next_node.y_coordinate - (m/2))**2))\n",
    "            time_waited_at_depot = next_node.earliest_arrival - current_time;\n",
    "            action_traveler = 0;\n",
    "            \n",
    "            if (time_waited_at_depot < 0):\n",
    "                raise ValueError(f\"Time waited at depot negative\")\n",
    "            \n",
    "        else:\n",
    "            time_waited_at_depot = 0.0;\n",
    "            \n",
    "            if (number_available_nodes == 0):\n",
    "                # Return to the depot if there are no available demands\n",
    "                time_start_travel = current_time\n",
    "                travel_time = np.sqrt(((current_node.x_coordinate - (m/2))**2) + ((current_node.y_coordinate - (m/2))**2))\n",
    "                action_traveler = 1\n",
    "            \n",
    "            else:\n",
    "                # Determine next Nearest Neighbor\n",
    "                next_node, travel_time = determine_Nearest_Neighbor(available_nodes, current_node);\n",
    "                available_nodes.remove(next_node);\n",
    "                number_available_nodes -= 1;\n",
    "                action_traveler = 0;\n",
    "                \n",
    "        travel_current_round = time_waited_at_depot + travel_time           \n",
    "\n",
    "        # PREEMPTION CHECK\n",
    "        next_node, travel_current_round, action_traveler, available_nodes, travel_time, time_start_travel_test = preemption_check(action_traveler, status_traveler, available_nodes, current_node, next_node, travel_current_round, current_time, travel_time, time_waited_at_depot)\n",
    "\n",
    "        if (action_traveler == 0):\n",
    "            # UPDATES\n",
    "            prev_current_time = current_time\n",
    "            result_waiting_times_array[number_visited_nodes] = current_time + travel_current_round - next_node.earliest_arrival\n",
    "            current_time += travel_current_round + next_node.service_time;\n",
    "            current_node = next_node;\n",
    "            number_visited_nodes += 1;\n",
    "            status_traveler = 1\n",
    "            \n",
    "        else:\n",
    "            current_time += travel_current_round;\n",
    "            status_traveler = 0;\n",
    "\n",
    "    return result_waiting_times_array;"
   ]
  },
  {
   "cell_type": "markdown",
   "id": "168fad86",
   "metadata": {},
   "source": [
    "## Running Algorithm"
   ]
  },
  {
   "cell_type": "code",
   "execution_count": 25,
   "id": "01a1ea93",
   "metadata": {},
   "outputs": [
    {
     "name": "stdout",
     "output_type": "stream",
     "text": [
      "Starting time = 21:00:07\n",
      "21:00:37: NUMBER DEMANDS VISITED: 290553/1000000\n",
      "21:01:07: NUMBER DEMANDS VISITED: 583112/1000000\n",
      "21:01:37: NUMBER DEMANDS VISITED: 870849/1000000\n",
      "I have finished in 1.720406214396159 minutes\n"
     ]
    }
   ],
   "source": [
    "# parameters\n",
    "system_loads = 0.5\n",
    "simulation_demands_amount = 1000000 #Choose 1000000 or 400000 - Maximum number of demands per simulation\n",
    "m = 1 # Square region A has size m x m\n",
    "#mu = 1/10;\n",
    "mu = 1/2;\n",
    "lam = system_loads/mu; # Arrival rate of individual dynamic demands\n",
    "sigma = 0;\n",
    "\n",
    "number_available_nodes = 0;\n",
    "number_nodes_in_system = 0;\n",
    "lower_earliest = 0.0;\n",
    "\n",
    "all_demands = [None]*simulation_demands_amount\n",
    "\n",
    "now = datetime.now()\n",
    "current_time = now.strftime(\"%H:%M:%S\")\n",
    "print(f\"Starting time = {current_time}\")\n",
    "start_time = time.time() # START TIME\n",
    "\n",
    "#%timeit result = simulate_NN_variations_algorithm();\n",
    "result_waiting_times_array = simulate_NN_variations_algorithm();\n",
    "\n",
    "print(f\"I have finished in {(time.time() - start_time)/60} minutes\")\n"
   ]
  },
  {
   "cell_type": "markdown",
   "id": "27139c74",
   "metadata": {},
   "source": [
    "## Results - Waiting Times - Batch Means"
   ]
  },
  {
   "cell_type": "code",
   "execution_count": 26,
   "id": "4b62284d",
   "metadata": {},
   "outputs": [
    {
     "name": "stdout",
     "output_type": "stream",
     "text": [
      "number of samples = 40\n",
      "Waiting time mean = 2.2847\n",
      "Sigma waiting time = 0.0954\n",
      "Waiting time CI = [2.2552,2.3143]\n"
     ]
    }
   ],
   "source": [
    "if (simulation_demands_amount == 400000):\n",
    "    warm_up_period_min = 200000\n",
    "    warm_up_period_max = 320000\n",
    "    sample_size = 3000\n",
    "elif (simulation_demands_amount == 1000000):\n",
    "    warm_up_period_min = 500000\n",
    "    warm_up_period_max = 800000\n",
    "    sample_size = 7500\n",
    "else:\n",
    "    raise ValueError(f\"Invalid simulation amount\")\n",
    "\n",
    "number_of_samples = int((warm_up_period_max-warm_up_period_min)/sample_size)\n",
    "print(f\"number of samples = {number_of_samples}\")\n",
    "\n",
    "\n",
    "batch_sample = []\n",
    "for j in range(number_of_samples):\n",
    "    mean_sample = np.mean(result_waiting_times_array[warm_up_period_min+(j*sample_size):warm_up_period_min+((j+1)*sample_size)])\n",
    "    batch_sample.append(mean_sample)\n",
    "    \n",
    "CI = [np.mean(batch_sample) - (1.96*statistics.stdev(batch_sample)/np.sqrt(number_of_samples)),np.mean(batch_sample) + (1.96*statistics.stdev(batch_sample)/np.sqrt(number_of_samples))]\n",
    "variation = (statistics.stdev(batch_sample))\n",
    "\n",
    "print(f\"Waiting time mean = {np.mean(batch_sample):.4f}\")\n",
    "print(f\"Sigma waiting time = {variation:.4f}\")\n",
    "print(f\"Waiting time CI = [{CI[0]:.4f},{CI[1]:.4f}]\")"
   ]
  },
  {
   "cell_type": "markdown",
   "id": "d9158cf2",
   "metadata": {},
   "source": [
    "# Plotting"
   ]
  },
  {
   "cell_type": "code",
   "execution_count": 27,
   "id": "6564786a",
   "metadata": {},
   "outputs": [],
   "source": [
    "convergence = []\n",
    "convergence_sum = 0.0;\n",
    "\n",
    "for k in range(simulation_demands_amount):\n",
    "    convergence_sum += result_waiting_times_array[k]\n",
    "    convergence.append(convergence_sum/(k+1))"
   ]
  },
  {
   "cell_type": "code",
   "execution_count": 28,
   "id": "9bf529ca",
   "metadata": {},
   "outputs": [
    {
     "data": {
      "image/png": "[encoded data removed]",
      "text/plain": [
       "<Figure size 1440x720 with 1 Axes>"
      ]
     },
     "metadata": {
      "needs_background": "light"
     },
     "output_type": "display_data"
    }
   ],
   "source": [
    "plt.figure(figsize=(20, 10))\n",
    "\n",
    "plt.plot(range(simulation_demands_amount), result_waiting_times_array)\n",
    "\n",
    "plt.title('')\n",
    "plt.xlabel('Demand index')\n",
    "plt.ylabel('Waiting times')\n",
    "plt.show()"
   ]
  },
  {
   "cell_type": "code",
   "execution_count": 29,
   "id": "fb427abf",
   "metadata": {},
   "outputs": [
    {
     "data": {
      "image/png": "[encoded data removed]",
      "text/plain": [
       "<Figure size 720x720 with 1 Axes>"
      ]
     },
     "metadata": {
      "needs_background": "light"
     },
     "output_type": "display_data"
    }
   ],
   "source": [
    "plt.figure(figsize=(10, 10))\n",
    "\n",
    "plt.plot(range(simulation_demands_amount), convergence)\n",
    "\n",
    "plt.title('')\n",
    "plt.xlabel('Index')\n",
    "plt.ylabel('Running average waiting time')\n",
    "plt.show()"
   ]
  },
  {
   "cell_type": "markdown",
   "id": "ecf5c0f2",
   "metadata": {},
   "source": [
    "# Batch Means CI"
   ]
  },
  {
   "cell_type": "code",
   "execution_count": 30,
   "id": "e63fa041",
   "metadata": {},
   "outputs": [
    {
     "name": "stdout",
     "output_type": "stream",
     "text": [
      "number of samples = 40\n",
      "Waiting time mean = 2.2847\n",
      "Sigma waiting time = 0.0954\n",
      "Waiting time CI = [2.2552,2.3143]\n"
     ]
    }
   ],
   "source": [
    "warm_up_period_min = 500000\n",
    "warm_up_period_max = 800000\n",
    "\n",
    "sample_size = 7500\n",
    "\n",
    "number_of_samples = int((warm_up_period_max-warm_up_period_min)/sample_size)\n",
    "print(f\"number of samples = {number_of_samples}\")\n",
    "\n",
    "batch_sample = []\n",
    "for j in range(number_of_samples):\n",
    "    mean_sample = np.mean(result_waiting_times_array[warm_up_period_min+(j*sample_size):warm_up_period_min+((j+1)*sample_size)])\n",
    "    batch_sample.append(mean_sample)\n",
    "        \n",
    "CI = [np.mean(batch_sample) - (1.96*statistics.stdev(batch_sample)/np.sqrt(number_of_samples)),np.mean(batch_sample) + (1.96*statistics.stdev(batch_sample)/np.sqrt(number_of_samples))]\n",
    "variation = (statistics.stdev(batch_sample))\n",
    "\n",
    "print(f\"Waiting time mean = {np.mean(batch_sample):.4f}\")\n",
    "print(f\"Sigma waiting time = {variation:.4f}\")\n",
    "print(f\"Waiting time CI = [{CI[0]:.4f},{CI[1]:.4f}]\")\n"
   ]
  },
  {
   "cell_type": "code",
   "execution_count": null,
   "id": "fe2778b4",
   "metadata": {},
   "outputs": [],
   "source": []
  }
 ],
 "metadata": {
  "kernelspec": {
   "display_name": "Python 3 (ipykernel)",
   "language": "python",
   "name": "python3"
  },
  "language_info": {
   "codemirror_mode": {
    "name": "ipython",
    "version": 3
   },
   "file_extension": ".py",
   "mimetype": "text/x-python",
   "name": "python",
   "nbconvert_exporter": "python",
   "pygments_lexer": "ipython3",
   "version": "3.9.12"
  }
 },
 "nbformat": 4,
 "nbformat_minor": 5
}
