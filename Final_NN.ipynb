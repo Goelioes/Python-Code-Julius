{
 "cells": [
  {
   "cell_type": "code",
   "execution_count": 16,
   "id": "aa536b18",
   "metadata": {},
   "outputs": [],
   "source": [
    "#!pip install pyomo\n",
    "\n",
    "import numpy as np\n",
    "import pyomo.environ as pyo\n",
    "from pathlib import *\n",
    "from pyomo.opt import SolverFactory\n",
    "from gurobipy import *\n",
    "\n",
    "import os\n",
    "import pandas as pd\n",
    "import matplotlib.pyplot as plt\n",
    "import statistics\n",
    "import time\n",
    "import math\n",
    "\n",
    "from scipy.stats import *\n",
    "\n",
    "from datetime import datetime\n"
   ]
  },
  {
   "cell_type": "markdown",
   "id": "2c6635e7",
   "metadata": {},
   "source": [
    "# Main Algorithm"
   ]
  },
  {
   "cell_type": "code",
   "execution_count": 17,
   "id": "69aa4450",
   "metadata": {},
   "outputs": [],
   "source": [
    "class demand_object:\n",
    "    def __init__(self, index, interarrival_time, x_coordinate, y_coordinate, service_time, earliest_arrival):\n",
    "        self.index = index\n",
    "        self.interarrival_time = interarrival_time\n",
    "        self.x_coordinate = x_coordinate\n",
    "        self.y_coordinate = y_coordinate\n",
    "        self.service_time = service_time\n",
    "        self.earliest_arrival = earliest_arrival\n",
    "\n",
    "def wait_for_arrival():\n",
    "    global lam; global mu; global m; global number_nodes_in_system; global lower_earliest; global sigma\n",
    "    global type_distribution; global trunc_a; global trunc_b; global trunc_mean; global trunc_std\n",
    "    \n",
    "    np.random.seed(number_nodes_in_system)\n",
    "    \n",
    "    A = np.random.exponential(scale = 1/lam, size=1)[0]\n",
    "    #S = np.random.normal(mu, sigma, size = 1)[0]\n",
    "    S = np.random.uniform(0, 1, size = 1)[0]\n",
    "    \n",
    "    if type_distribution == \"nonuniform\":\n",
    "        X = truncnorm.rvs(trunc_a, trunc_b, loc = trunc_mean, scale = trunc_std, size=1)[0]\n",
    "        Y = truncnorm.rvs(trunc_a, trunc_b, loc = trunc_mean, scale = trunc_std, size=1)[0]\n",
    "    else:\n",
    "        X = np.random.uniform(low=0, high=m, size=1)[0]\n",
    "        Y = np.random.uniform(low=0, high=m, size=1)[0]\n",
    "        \n",
    "    demand = demand_object(number_nodes_in_system+1, A, X, Y, S, lower_earliest + A);    \n",
    "    return demand;\n",
    "\n",
    "def add_newly_appeared(available_nodes, maximum_time):\n",
    "    global number_available_nodes\n",
    "    global number_nodes_in_system\n",
    "    global lower_earliest\n",
    "    global simulation_demands_amount\n",
    "    \n",
    "    while (number_nodes_in_system < simulation_demands_amount):\n",
    "        new_available_node = wait_for_arrival();\n",
    "        if (new_available_node.earliest_arrival <= maximum_time):\n",
    "            available_nodes.append(new_available_node);\n",
    "            number_available_nodes += 1;\n",
    "            number_nodes_in_system += 1;\n",
    "            lower_earliest += new_available_node.interarrival_time;\n",
    "        else:\n",
    "            break;\n",
    "            \n",
    "    return available_nodes;\n",
    "\n",
    "def determine_Nearest_Neighbor(available_nodes, current_node):\n",
    "    minimum_distance = np.sqrt(((current_node.x_coordinate - available_nodes[0].x_coordinate)**2) + ((current_node.y_coordinate - available_nodes[0].y_coordinate)**2));\n",
    "    next_node = available_nodes[0]\n",
    "    for demand in available_nodes:\n",
    "        temp_distance = np.sqrt(((current_node.x_coordinate - demand.x_coordinate)**2) + ((current_node.y_coordinate - demand.y_coordinate)**2));\n",
    "        if (temp_distance < minimum_distance):\n",
    "            next_node = demand;\n",
    "            minimum_distance = temp_distance;\n",
    "    \n",
    "    travel_time = minimum_distance\n",
    "    return next_node, travel_time;\n",
    "\n",
    "\n",
    "def simulate_NN_algorithm():\n",
    "    global simulation_demands_amount; global lam; global mu; global sigma; global m;\n",
    "    global number_available_nodes; global number_nodes_in_system; global lower_earliest;\n",
    "    \n",
    "    result_waiting_times_array = [0]*simulation_demands_amount\n",
    "    travel_times_array = [0]*simulation_demands_amount\n",
    "    \n",
    "    number_available_average_array = []\n",
    "        \n",
    "    number_visited_nodes = 0;\n",
    "    available_nodes = [];\n",
    "    current_node = demand_object(0,0,0,0,0,0);\n",
    "    current_time = 0.0;\n",
    "    lower_earliest = 0.0;\n",
    "    \n",
    "    status_traveler = 0\n",
    "    \n",
    "    start_time_time = time.time()\n",
    "    \n",
    "    while (number_visited_nodes < simulation_demands_amount):\n",
    "                \n",
    "        \"\"\"STATUS PRINTING\"\"\"\n",
    "        if ((time.time()-start_time_time)/60 >= 0.5):\n",
    "            now = datetime.now()\n",
    "            now_time = now.strftime(\"%H:%M:%S\")\n",
    "            print(f\"{now_time}: NUMBER DEMANDS VISITED: {number_visited_nodes}/{simulation_demands_amount}\")\n",
    "            start_time_time = time.time()\n",
    "        \"\"\"STATUS PRINTING\"\"\"\n",
    "        \n",
    "        # Initialization                \n",
    "        available_nodes = add_newly_appeared(available_nodes, current_time);\n",
    "        \n",
    "        if (number_available_nodes == 0):\n",
    "            next_node = wait_for_arrival();\n",
    "            lower_earliest = next_node.earliest_arrival;\n",
    "            number_nodes_in_system += 1;\n",
    "            \n",
    "            if (status_traveler == 0):\n",
    "                if (type_distribution == \"uniform\"):\n",
    "                    travel_time = np.sqrt((next_node.x_coordinate - (m/2))**2 + (next_node.y_coordinate - (m/2))**2)\n",
    "                else:\n",
    "                    travel_time = np.sqrt((next_node.x_coordinate - 0.2)**2 + (next_node.y_coordinate - 0.2)**2)\n",
    "                \n",
    "                status_traveler = 1\n",
    "            else: \n",
    "                travel_time = np.sqrt((next_node.x_coordinate - current_node.x_coordinate)**2 + (next_node.y_coordinate - current_node.y_coordinate)**2)\n",
    "\n",
    "            time_waited_at_depot = next_node.earliest_arrival - current_time;\n",
    "            \n",
    "        else:\n",
    "            time_waited_at_depot = 0.0;\n",
    "            next_node, travel_time = determine_Nearest_Neighbor(available_nodes, current_node);\n",
    "            available_nodes.remove(next_node);\n",
    "            number_available_nodes -= 1;\n",
    "    \n",
    "        # UPDATES\n",
    "        time_start_travel_test = current_time + time_waited_at_depot\n",
    "        \n",
    "        result_waiting_times_array[number_visited_nodes] = current_time + time_waited_at_depot + travel_time - next_node.earliest_arrival\n",
    "        travel_times_array[number_visited_nodes] = travel_time\n",
    "        current_time += time_waited_at_depot + travel_time + next_node.service_time;\n",
    "        current_node = next_node;\n",
    "        number_visited_nodes +=1;\n",
    "        \n",
    "        number_available_average_array.append(len(available_nodes))\n",
    "        \n",
    "    return result_waiting_times_array, travel_times_array, number_available_average_array"
   ]
  },
  {
   "cell_type": "markdown",
   "id": "c621b4d5",
   "metadata": {},
   "source": [
    "## Running Algorithm"
   ]
  },
  {
   "cell_type": "code",
   "execution_count": 19,
   "id": "be89f9d6",
   "metadata": {},
   "outputs": [
    {
     "name": "stdout",
     "output_type": "stream",
     "text": [
      "Starting time = 20:40:52\n",
      "20:41:22: NUMBER DEMANDS VISITED: 483439/1000000\n",
      "20:41:52: NUMBER DEMANDS VISITED: 945967/1000000\n",
      "I have finished in 1.064840050538381 minutes\n"
     ]
    }
   ],
   "source": [
    "#parameters\n",
    "system_loads = 0.5\n",
    "simulation_demands_amount = 1000000 #Choose 1000000 or 400000 - Maximum number of demands per simulation\n",
    "m = 1 # Square region A has size m x m\n",
    "#mu = 1/10;\n",
    "mu = 1/2;\n",
    "lam = system_loads/mu; # Arrival rate of individual dynamic demands\n",
    "sigma = 0;\n",
    "\n",
    "#nonuniform distribution\n",
    "lowerbound = 0\n",
    "upperbound = 1\n",
    "trunc_mean = 0.2\n",
    "trunc_std = 0.9\n",
    "trunc_a, trunc_b = (lowerbound - trunc_mean) / trunc_std, (upperbound - trunc_mean) / trunc_std\n",
    "\n",
    "number_available_nodes = 0;\n",
    "number_nodes_in_system = 0;\n",
    "lower_earliest = 0.0;\n",
    "\n",
    "now = datetime.now()\n",
    "current_time = now.strftime(\"%H:%M:%S\")\n",
    "print(f\"Starting time = {current_time}\")\n",
    "\n",
    "start_time = time.time() # START TIME\n",
    "\n",
    "\n",
    "# type_distribution = \"nonuniform\" or \"uniform\"\n",
    "type_distribution = \"uniform\"\n",
    "result_waiting_times_array, travel_times_array, number_available_average_array = simulate_NN_algorithm();\n",
    "\n",
    "print(f\"I have finished in {(time.time() - start_time)/60} minutes\")"
   ]
  },
  {
   "cell_type": "code",
   "execution_count": 20,
   "id": "e6cef5fe",
   "metadata": {},
   "outputs": [],
   "source": [
    "convergence = []\n",
    "convergence_sum = 0.0;\n",
    "\n",
    "for k in range(simulation_demands_amount):\n",
    "    convergence_sum += result_waiting_times_array[k]\n",
    "    convergence.append(convergence_sum/(k+1))"
   ]
  },
  {
   "cell_type": "code",
   "execution_count": 21,
   "id": "c703f91a",
   "metadata": {},
   "outputs": [
    {
     "data": {
      "image/png": "[encoded data removed]",
      "text/plain": [
       "<Figure size 720x576 with 1 Axes>"
      ]
     },
     "metadata": {
      "needs_background": "light"
     },
     "output_type": "display_data"
    }
   ],
   "source": [
    "plt.figure(figsize=(10, 8))\n",
    "\n",
    "plt.plot(range(simulation_demands_amount), result_waiting_times_array)\n",
    "\n",
    "plt.title('')\n",
    "plt.xlabel('Demand index')\n",
    "plt.ylabel('Waiting time')\n",
    "plt.show()"
   ]
  },
  {
   "cell_type": "code",
   "execution_count": 22,
   "id": "8b1dde2f",
   "metadata": {
    "scrolled": true
   },
   "outputs": [
    {
     "data": {
      "image/png": "[encoded data removed]",
      "text/plain": [
       "<Figure size 576x576 with 1 Axes>"
      ]
     },
     "metadata": {
      "needs_background": "light"
     },
     "output_type": "display_data"
    }
   ],
   "source": [
    "plt.figure(figsize=(8, 8))\n",
    "\n",
    "plt.plot(range(simulation_demands_amount), convergence)\n",
    "\n",
    "#plt.ylim(76, 80)\n",
    "plt.title('Convergence of the running average of the NNP')\n",
    "plt.xlabel('Number of served demands')\n",
    "plt.ylabel('Running average waiting times')\n",
    "plt.show()"
   ]
  },
  {
   "cell_type": "markdown",
   "id": "9108033b",
   "metadata": {},
   "source": [
    "## Waiting Times - Batch Means"
   ]
  },
  {
   "cell_type": "code",
   "execution_count": 24,
   "id": "044c3553",
   "metadata": {},
   "outputs": [
    {
     "name": "stdout",
     "output_type": "stream",
     "text": [
      "number of samples = 40\n",
      "Waiting time mean = 2.4476\n",
      "Sigma waiting time = 0.0894\n",
      "Waiting time CI = [2.4199,2.4752]\n",
      "\n",
      "Mean travel time: 0.3825\n",
      "Mean number of available demands in system: 2.0666\n"
     ]
    }
   ],
   "source": [
    "if (simulation_demands_amount == 400000):\n",
    "    warm_up_period_min = 200000\n",
    "    warm_up_period_max = 320000\n",
    "    sample_size = 3000\n",
    "elif (simulation_demands_amount == 1000000):\n",
    "    warm_up_period_min = 500000\n",
    "    warm_up_period_max = 800000\n",
    "    sample_size = 7500\n",
    "else:\n",
    "    raise ValueError(f\"Invalid simulation amount\")\n",
    "\n",
    "number_of_samples = int((warm_up_period_max-warm_up_period_min)/sample_size)\n",
    "print(f\"number of samples = {number_of_samples}\")\n",
    "\n",
    "\n",
    "\n",
    "batch_sample = []\n",
    "batch_sample_travel = []\n",
    "batch_sample_number_available = []\n",
    "for j in range(number_of_samples):\n",
    "    mean_sample = np.mean(result_waiting_times_array[warm_up_period_min+(j*sample_size):warm_up_period_min+((j+1)*sample_size)])\n",
    "    batch_sample.append(mean_sample)\n",
    "    \n",
    "    mean_sample_travel = np.mean(travel_times_array[warm_up_period_min+(j*sample_size):warm_up_period_min+((j+1)*sample_size)])\n",
    "    batch_sample_travel.append(mean_sample_travel)\n",
    "    \n",
    "    mean_sample_available_nodes = np.mean(number_available_average_array[warm_up_period_min+(j*sample_size):warm_up_period_min+((j+1)*sample_size)])\n",
    "    batch_sample_number_available.append(mean_sample_available_nodes)\n",
    "    \n",
    "CI = [np.mean(batch_sample) - (1.96*statistics.stdev(batch_sample)/np.sqrt(number_of_samples)),np.mean(batch_sample) + (1.96*statistics.stdev(batch_sample)/np.sqrt(number_of_samples))]\n",
    "variation = (statistics.stdev(batch_sample))\n",
    "\n",
    "print(f\"Waiting time mean = {np.mean(batch_sample):.4f}\")\n",
    "print(f\"Sigma waiting time = {variation:.4f}\")\n",
    "print(f\"Waiting time CI = [{CI[0]:.4f},{CI[1]:.4f}]\")\n",
    "print(f\"\\nMean travel time: {np.mean(batch_sample_travel):.4f}\")\n",
    "print(f\"Mean number of available demands in system: {np.mean(batch_sample_number_available):.4f}\")"
   ]
  },
  {
   "cell_type": "code",
   "execution_count": null,
   "id": "2a6d710e",
   "metadata": {},
   "outputs": [],
   "source": []
  }
 ],
 "metadata": {
  "kernelspec": {
   "display_name": "Python 3 (ipykernel)",
   "language": "python",
   "name": "python3"
  },
  "language_info": {
   "codemirror_mode": {
    "name": "ipython",
    "version": 3
   },
   "file_extension": ".py",
   "mimetype": "text/x-python",
   "name": "python",
   "nbconvert_exporter": "python",
   "pygments_lexer": "ipython3",
   "version": "3.9.12"
  }
 },
 "nbformat": 4,
 "nbformat_minor": 5
}
