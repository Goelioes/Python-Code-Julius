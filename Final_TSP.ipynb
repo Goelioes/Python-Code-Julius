{
 "cells": [
  {
   "cell_type": "code",
   "execution_count": 1,
   "id": "f0f13a0c",
   "metadata": {},
   "outputs": [
    {
     "name": "stdout",
     "output_type": "stream",
     "text": [
      "Set parameter WLSAccessID\n",
      "Set parameter WLSSecret\n",
      "Set parameter LicenseID to value 943442\n",
      "Academic license 943442 - for non-commercial use only - registered to j.___@student.vu.nl\n"
     ]
    }
   ],
   "source": [
    "#!pip install pyomo\n",
    "\n",
    "import numpy as np\n",
    "import pyomo.environ as pyo\n",
    "from pathlib import *\n",
    "from pyomo.opt import SolverFactory\n",
    "from gurobipy import *\n",
    "\n",
    "import os\n",
    "import pandas as pd\n",
    "import matplotlib.pyplot as plt\n",
    "import statistics\n",
    "import time\n",
    "\n",
    "from datetime import datetime\n",
    "param = {\n",
    "\"WLSACCESSID\": '31c22531-09db-4b06-8466-f0589ec53ca2',\n",
    "\"WLSSECRET\": '1db38aec-7d75-4e91-aadb-aed504137cf7',\n",
    "\"LICENSEID\": 943442,\n",
    "}\n",
    "\n",
    "gurobi_environment = Env(params=param)"
   ]
  },
  {
   "cell_type": "markdown",
   "id": "455a6e04",
   "metadata": {},
   "source": [
    "# Generating instance"
   ]
  },
  {
   "cell_type": "code",
   "execution_count": 2,
   "id": "5d356528",
   "metadata": {},
   "outputs": [],
   "source": [
    "class demand_object:\n",
    "    def __init__(self, index, interarrival_time, x_coordinate, y_coordinate, service_time, earliest_arrival):\n",
    "        self.index = index\n",
    "        self.interarrival_time = interarrival_time\n",
    "        self.x_coordinate = x_coordinate\n",
    "        self.y_coordinate = y_coordinate\n",
    "        self.service_time = service_time\n",
    "        self.earliest_arrival = earliest_arrival\n",
    "\n",
    "def generate_instance(system_loads, simulation_demands_amount, tilde_n, m , mu, lam, sigma, num_sets_tilde_A):\n",
    "    \n",
    "    A_all = []\n",
    "    S_all = []\n",
    "    x_coordinates = []\n",
    "    y_coordinates = []\n",
    "    \n",
    "    depot_x_coord = m/2\n",
    "    depot_y_coord = m/2\n",
    "    \n",
    "    # Fill the demands object\n",
    "    depot_object = demand_object(0, 0, depot_x_coord, depot_y_coord, 0, 0)\n",
    "    demands = [depot_object]\n",
    "    \n",
    "    for i in range(simulation_demands_amount):\n",
    "        np.random.seed(i)\n",
    "        A = np.random.exponential(1/lam, size=1)[0] # Interarrival times vector \n",
    "        S = np.random.normal(mu, sigma, size = 1)[0]\n",
    "        #S = np.random.uniform(0, 1, size = 1)[0]\n",
    "        x_coordinate = np.random.uniform(low=0, high=m, size=1)[0]\n",
    "        y_coordinate = np.random.uniform(low=0, high=m, size=1)[0]\n",
    "        demand_i = demand_object(i+1, A, x_coordinate, y_coordinate , S, demands[i].earliest_arrival+A)\n",
    "        demands.append(demand_i)\n",
    "    \n",
    "    \n",
    "    # Construct tilde A vector\n",
    "    release_times_tilde_A = [0]*num_sets_tilde_A \n",
    "    previous_release_tilde_A = 0\n",
    "    demands_tilde_A = []\n",
    "\n",
    "    for i in range(num_sets_tilde_A):\n",
    "        subset = [depot_object]\n",
    "        subset.extend(demands[i*tilde_n+1:(i+1)*tilde_n+1])\n",
    "        demands_tilde_A.append(subset)\n",
    "        release_times_tilde_A[i] = subset[-1].earliest_arrival\n",
    "        \n",
    "    return demands_tilde_A, demands, release_times_tilde_A"
   ]
  },
  {
   "cell_type": "code",
   "execution_count": 3,
   "id": "81b1f773",
   "metadata": {},
   "outputs": [],
   "source": [
    "system_loads = 0.2\n",
    "\n",
    "tilde_n = 7; # Size o/f the subsets N_k\n",
    "simulation_demands_amount = 5000*tilde_n # Maximum number of demands per simulation\n",
    "m = 1 # Square region A has size m x m\n",
    "mu = 1/10;\n",
    "lam = system_loads/mu; # Arrival rate of individual dynamic demands\n",
    "sigma = 0;\n",
    "num_sets_tilde_A = int(simulation_demands_amount/tilde_n)\n",
    "\n",
    "demands_tilde_A, demands, release_times_tilde_A = generate_instance(system_loads, simulation_demands_amount, tilde_n, m , mu, lam, sigma, num_sets_tilde_A)\n",
    "\n",
    "#print(release_times_tilde_A)"
   ]
  },
  {
   "cell_type": "code",
   "execution_count": 4,
   "id": "468d52a2",
   "metadata": {},
   "outputs": [
    {
     "name": "stdout",
     "output_type": "stream",
     "text": [
      "Load: 0.2\n",
      "lam: 2.0\n",
      "mu: 0.1\n",
      "n satisfies the condition: True\n",
      "Requirement value of n: 3.2399999999999993\n"
     ]
    }
   ],
   "source": [
    "# Check requirement on n\n",
    "print(\"Load:\", lam*mu)\n",
    "print(\"lam:\", lam)\n",
    "print(\"mu:\", mu)\n",
    "\n",
    "requirement = ((lam*0.72*m)**2)/((1-(lam*mu))**2)\n",
    "print(f\"n satisfies the condition: {tilde_n > requirement}\")\n",
    "print(f\"Requirement value of n: {requirement}\")\n",
    "\n",
    "if not (tilde_n > requirement):\n",
    "    raise ValueError(\"TSP requirement not met\")"
   ]
  },
  {
   "cell_type": "markdown",
   "id": "08ec7a72",
   "metadata": {},
   "source": [
    "# Distances matrix"
   ]
  },
  {
   "cell_type": "code",
   "execution_count": 5,
   "id": "a25bc47e",
   "metadata": {},
   "outputs": [],
   "source": [
    "# Compute distances matrices\n",
    "def Compute_distances(tilde_A_demands, num_sets_tilde_A, n):\n",
    "    distances_matrices = []\n",
    "    for i in range(num_sets_tilde_A):\n",
    "        partial_matrix = np.zeros((n, n),dtype=float )\n",
    "        for j in range(n):\n",
    "            for k in range(n):\n",
    "                if k > j:\n",
    "                    distance = np.sqrt((tilde_A_demands[i][j].x_coordinate - tilde_A_demands[i][k].x_coordinate)**2 + (tilde_A_demands[i][j].y_coordinate - tilde_A_demands[i][k].y_coordinate)**2)\n",
    "                    partial_matrix[j][k] = round(distance, 14)\n",
    "                    partial_matrix[k][j] = round(distance, 14)\n",
    "                    \n",
    "        distances_matrices.append(partial_matrix)\n",
    "        \n",
    "    return distances_matrices\n",
    "\n",
    "distances_matrices = Compute_distances(demands_tilde_A, num_sets_tilde_A, len(demands_tilde_A[0]))"
   ]
  },
  {
   "cell_type": "code",
   "execution_count": 6,
   "id": "72e9e93e",
   "metadata": {},
   "outputs": [],
   "source": [
    "def Compute_TSP_Tour(distances_matrix, gurobi_environment):\n",
    "    global mu\n",
    "    \n",
    "    model = Model(env = gurobi_environment)\n",
    "    model.Params.LogToConsole = 0\n",
    "\n",
    "    # Parameters\n",
    "    tilde_n = len(distances_matrix)-1\n",
    "\n",
    "    # Nodes set\n",
    "    nodes = range(tilde_n+1) # produce list from 0 through tilde n \n",
    "    nodes_excl = range(1,tilde_n+1)\n",
    "    tour = model.addMVar((tilde_n+1, tilde_n+1), vtype=GRB.BINARY, name=\"tour\")\n",
    "    u = model.addMVar(tilde_n, vtype= GRB.CONTINUOUS, lb = 0, ub = GRB.INFINITY)\n",
    "    \n",
    "    model.setObjective(sum(tour[i, j] * distances_matrix[i,j] for i in nodes for j in nodes if i != j), GRB.MINIMIZE)\n",
    "    \n",
    "    model.addConstrs(sum(tour[i, j] for j in nodes if i != j) == 1 for i in nodes_excl)\n",
    "    model.addConstrs(sum(tour[i, j] for i in nodes if i != j) == 1 for j in nodes_excl)\n",
    "    model.addConstr(sum(tour[i, 0] for i in nodes_excl) == 1)\n",
    "\n",
    "    # Eliminate subtours using Miller-Tucker-Zemlin (MTZ) Constraints \n",
    "    model.addConstrs(u[i-1] - u[j-1] + (tilde_n*tour[i,j]) <= tilde_n - 1 for i in nodes_excl for j in nodes_excl if i != j)\n",
    "\n",
    "    model.optimize();\n",
    "    optimality = model.status\n",
    "    result = tour.X\n",
    "    \n",
    "    return result, optimality"
   ]
  },
  {
   "cell_type": "markdown",
   "id": "a5eb6fe3",
   "metadata": {},
   "source": [
    "# Solve model"
   ]
  },
  {
   "cell_type": "code",
   "execution_count": 7,
   "id": "5a08ea2a",
   "metadata": {},
   "outputs": [
    {
     "name": "stdout",
     "output_type": "stream",
     "text": [
      "Starting time = 14:18:37\n",
      "14:19:07: NUMBER TSP TOURS COMPUTED: 226/5000\n",
      "14:19:37: NUMBER TSP TOURS COMPUTED: 456/5000\n",
      "14:20:07: NUMBER TSP TOURS COMPUTED: 686/5000\n",
      "14:20:37: NUMBER TSP TOURS COMPUTED: 915/5000\n",
      "14:21:07: NUMBER TSP TOURS COMPUTED: 1148/5000\n",
      "14:21:37: NUMBER TSP TOURS COMPUTED: 1381/5000\n",
      "14:22:07: NUMBER TSP TOURS COMPUTED: 1616/5000\n",
      "14:22:37: NUMBER TSP TOURS COMPUTED: 1851/5000\n",
      "14:23:07: NUMBER TSP TOURS COMPUTED: 2083/5000\n",
      "14:23:37: NUMBER TSP TOURS COMPUTED: 2315/5000\n",
      "14:24:07: NUMBER TSP TOURS COMPUTED: 2538/5000\n",
      "14:24:37: NUMBER TSP TOURS COMPUTED: 2761/5000\n",
      "14:25:07: NUMBER TSP TOURS COMPUTED: 2976/5000\n",
      "14:25:37: NUMBER TSP TOURS COMPUTED: 3195/5000\n",
      "14:26:08: NUMBER TSP TOURS COMPUTED: 3420/5000\n",
      "14:26:38: NUMBER TSP TOURS COMPUTED: 3652/5000\n",
      "14:27:08: NUMBER TSP TOURS COMPUTED: 3879/5000\n",
      "14:27:38: NUMBER TSP TOURS COMPUTED: 4100/5000\n",
      "14:28:08: NUMBER TSP TOURS COMPUTED: 4306/5000\n",
      "14:28:38: NUMBER TSP TOURS COMPUTED: 4521/5000\n",
      "14:29:08: NUMBER TSP TOURS COMPUTED: 4744/5000\n",
      "14:29:38: NUMBER TSP TOURS COMPUTED: 4962/5000\n",
      "\n",
      "I have finished in 0.08496987024943034 minutes\n"
     ]
    }
   ],
   "source": [
    "all_adjacency_matrices = []\n",
    "total_travel_times_subsets = [0]*num_sets_tilde_A\n",
    "all_TSP_Tours = []\n",
    "\n",
    "class TSP_object:\n",
    "    def __init__(self, index, travel_time):\n",
    "        self.index = index\n",
    "        self.travel_time = travel_time\n",
    "\n",
    "        \n",
    "start_time = time.time() # START TIME\n",
    "now = datetime.now()\n",
    "current_time = now.strftime(\"%H:%M:%S\")\n",
    "print(f\"Starting time = {current_time}\")\n",
    "\n",
    "for i in range(num_sets_tilde_A):\n",
    "    \n",
    "    #\"\"\"STATUS PRINTING\"\"\"\n",
    "    if ((time.time()-start_time)/60 >= 0.5):\n",
    "        now = datetime.now()\n",
    "        now_time = now.strftime(\"%H:%M:%S\")\n",
    "        print(f\"{now_time}: NUMBER TSP TOURS COMPUTED: {i+1}/{num_sets_tilde_A}\")\n",
    "        start_time = time.time()\n",
    "    #\"\"\"STATUS PRINTING\"\"\"\n",
    "    \n",
    "    # Solving\n",
    "    result, optimality = Compute_TSP_Tour(distances_matrices[i], gurobi_environment);\n",
    "    \n",
    "    #print(f\"\\niteration {i+1}/{num_sets_tilde_A}: {(time.time() - start_time)/60} minutes\")   \n",
    "    #print(f\"Optimal solution? {optimality == 2}\")\n",
    "    \n",
    "    # Make tour array\n",
    "    TSP_tour = [TSP_object(0,0)]\n",
    "    current_node = 0\n",
    "    for l in range(tilde_n+1):\n",
    "        adjacency_row = result[current_node]\n",
    "        next_node = np.where(adjacency_row == max(adjacency_row))[0][0]\n",
    "        \n",
    "        #\"\"\"TSP VALIDITY CHECK\"\"\"\n",
    "        for k in range(l):\n",
    "            if (next_node == TSP_tour[k].index and next_node != 0):\n",
    "                raise ValueError(f\"Node {next_node+(i*tilde_n)} visited twice\")\n",
    "        #\"\"\"TSP VALIDITY CHECK\"\"\"\n",
    "        \n",
    "        TSP_tour.append(TSP_object(next_node+(i*tilde_n), distances_matrices[i][current_node][next_node]))\n",
    "        current_node = next_node\n",
    "        \n",
    "    #print(\"TSP tour length\", len(TSP_tour))\n",
    "    all_TSP_Tours.append(TSP_tour)\n",
    "    \n",
    "print(f\"\\nI have finished in {(time.time() - start_time)/60} minutes\")       "
   ]
  },
  {
   "cell_type": "markdown",
   "id": "280ac816",
   "metadata": {},
   "source": [
    "# Compute waiting times"
   ]
  },
  {
   "cell_type": "code",
   "execution_count": 8,
   "id": "ebb4a02f",
   "metadata": {},
   "outputs": [],
   "source": [
    "class result:\n",
    "    def __init__(self, index, earliest_arrival, completion_time, waiting_time):\n",
    "        self.index = index\n",
    "        self.earliest_arrival = earliest_arrival\n",
    "        self.completion_time = completion_time\n",
    "        self.waiting_time = waiting_time\n",
    "\n",
    "results = []\n",
    "ending_time_prev_TSP = 0.0\n",
    "\n",
    "for i in range(num_sets_tilde_A):\n",
    "    temp_tour = all_TSP_Tours[i]\n",
    "    sum_service_times_tilde_A = 0.0\n",
    "    sum_travel_times_tilde_A = 0.0\n",
    "    start_time_TSP = max(ending_time_prev_TSP, release_times_tilde_A[i])\n",
    "    \n",
    "    for j in range(1,tilde_n+1):\n",
    "        index = temp_tour[j].index\n",
    "        prev_index = temp_tour[j-1].index\n",
    "        \n",
    "        sum_travel_times_tilde_A += temp_tour[j].travel_time\n",
    "        wait_within_TSP = sum_travel_times_tilde_A + sum_service_times_tilde_A\n",
    "        wait_before_TSP = start_time_TSP - demands[index].earliest_arrival\n",
    "        sum_service_times_tilde_A += demands[index].service_time\n",
    "        waiting_time = wait_within_TSP + wait_before_TSP\n",
    "        completion_time = start_time_TSP+wait_within_TSP+demands[index].service_time\n",
    "        results.append(result(index, demands[index].earliest_arrival, completion_time, waiting_time))        \n",
    "\n",
    "    distance_back_to_depot = np.sqrt((demands[index].x_coordinate - (m/2))**2 + (demands[index].y_coordinate - (m/2))**2)\n",
    "    ending_time_prev_TSP = completion_time + distance_back_to_depot\n"
   ]
  },
  {
   "cell_type": "markdown",
   "id": "4d8509e6",
   "metadata": {},
   "source": [
    "# Plotting"
   ]
  },
  {
   "cell_type": "code",
   "execution_count": 9,
   "id": "fe05cdd0",
   "metadata": {},
   "outputs": [],
   "source": [
    "result_waiting_times_array = []\n",
    "convergence = []\n",
    "convergence_sum = 0;\n",
    "for k in range(simulation_demands_amount):\n",
    "    result_waiting_times_array.append(results[k].waiting_time)\n",
    "    convergence_sum += results[k].waiting_time\n",
    "    convergence.append(convergence_sum/(k+1))"
   ]
  },
  {
   "cell_type": "code",
   "execution_count": 10,
   "id": "ad303c0a",
   "metadata": {},
   "outputs": [
    {
     "data": {
      "image/png": "[encoded data removed]",
      "text/plain": [
       "<Figure size 720x720 with 1 Axes>"
      ]
     },
     "metadata": {
      "needs_background": "light"
     },
     "output_type": "display_data"
    }
   ],
   "source": [
    "plt.figure(figsize=(10, 10))\n",
    "\n",
    "plt.plot(range(simulation_demands_amount), result_waiting_times_array)\n",
    "\n",
    "plt.title('')\n",
    "plt.xlabel('Demand index')\n",
    "plt.ylabel('Waiting times')\n",
    "plt.show()"
   ]
  },
  {
   "cell_type": "code",
   "execution_count": 11,
   "id": "91c7634d",
   "metadata": {},
   "outputs": [
    {
     "data": {
      "image/png": "[encoded data removed]",
      "text/plain": [
       "<Figure size 720x720 with 1 Axes>"
      ]
     },
     "metadata": {
      "needs_background": "light"
     },
     "output_type": "display_data"
    }
   ],
   "source": [
    "plt.figure(figsize=(10, 10))\n",
    "\n",
    "plt.plot(range(simulation_demands_amount), convergence)\n",
    "\n",
    "#plt.ylim(76, 80)\n",
    "plt.title('')\n",
    "plt.xlabel('Index')\n",
    "plt.ylabel('Running average waiting time')\n",
    "plt.show()"
   ]
  },
  {
   "cell_type": "markdown",
   "id": "5d4f6e5c",
   "metadata": {},
   "source": [
    "## Results - Waiting Times - Batch Means"
   ]
  },
  {
   "cell_type": "code",
   "execution_count": 12,
   "id": "42ab9696",
   "metadata": {},
   "outputs": [
    {
     "name": "stdout",
     "output_type": "stream",
     "text": [
      "number of samples = 40\n",
      "Waiting time mean = 5.5616\n",
      "Variation waiting time = 2.1220\n",
      "Waiting time CI = [5.1102,6.0130]\n"
     ]
    }
   ],
   "source": [
    "warm_up_period = 500*tilde_n\n",
    "sample_size = 110*tilde_n\n",
    "\n",
    "number_of_samples = int((simulation_demands_amount-warm_up_period)/sample_size)\n",
    "print(f\"number of samples = {number_of_samples}\")\n",
    "\n",
    "batch_sample = []\n",
    "for j in range(number_of_samples):\n",
    "    mean_sample = np.mean(result_waiting_times_array[warm_up_period+(j*sample_size):warm_up_period+((j+1)*sample_size)])\n",
    "    batch_sample.append(mean_sample)\n",
    "CI = [np.mean(batch_sample) - (1.96*statistics.stdev(batch_sample)/np.sqrt(number_of_samples)),np.mean(batch_sample) + (1.96*statistics.stdev(batch_sample)/np.sqrt(number_of_samples))]\n",
    "variation = (statistics.stdev(batch_sample)**2)\n",
    "\n",
    "print(f\"Waiting time mean = {np.mean(batch_sample):.4f}\")\n",
    "print(f\"Variation waiting time = {variation:.4f}\")\n",
    "print(f\"Waiting time CI = [{CI[0]:.4f},{CI[1]:.4f}]\")"
   ]
  },
  {
   "cell_type": "code",
   "execution_count": null,
   "id": "ba5bf3ce",
   "metadata": {},
   "outputs": [],
   "source": []
  }
 ],
 "metadata": {
  "kernelspec": {
   "display_name": "Python 3 (ipykernel)",
   "language": "python",
   "name": "python3"
  },
  "language_info": {
   "codemirror_mode": {
    "name": "ipython",
    "version": 3
   },
   "file_extension": ".py",
   "mimetype": "text/x-python",
   "name": "python",
   "nbconvert_exporter": "python",
   "pygments_lexer": "ipython3",
   "version": "3.9.12"
  }
 },
 "nbformat": 4,
 "nbformat_minor": 5
}
